{
 "cells": [
  {
   "cell_type": "code",
   "execution_count": 1,
   "metadata": {},
   "outputs": [],
   "source": [
    "import os\n",
    "from tqdm import tqdm\n",
    "from time import time\n",
    "import numpy as np\n",
    "from sklearn.metrics import accuracy_score\n",
    "import itertools"
   ]
  },
  {
   "cell_type": "code",
   "execution_count": null,
   "metadata": {},
   "outputs": [],
   "source": [
    "!head -2 ../../data/stackoverflow.10kk.tsv"
   ]
  },
  {
   "cell_type": "code",
   "execution_count": null,
   "metadata": {},
   "outputs": [],
   "source": [
    "%%time\n",
    "!wc -l ../../data/stackoverflow.10kk.tsv"
   ]
  },
  {
   "cell_type": "markdown",
   "metadata": {},
   "source": [
    "### Preprocessing data"
   ]
  },
  {
   "cell_type": "code",
   "execution_count": null,
   "metadata": {
    "scrolled": true
   },
   "outputs": [],
   "source": [
    "%%time\n",
    "!python3 preprocess.py ../../data/stackoverflow.10kk.tsv stackoverflow.vw"
   ]
  },
  {
   "cell_type": "code",
   "execution_count": null,
   "metadata": {},
   "outputs": [],
   "source": [
    "%%time\n",
    "!wc -l stackoverflow.vw"
   ]
  },
  {
   "cell_type": "markdown",
   "metadata": {},
   "source": [
    "### Spliting data on train, valid and test"
   ]
  },
  {
   "cell_type": "code",
   "execution_count": null,
   "metadata": {},
   "outputs": [],
   "source": [
    "%%time\n",
    "! split -l 1463018 stackoverflow.vw stackoverflow_"
   ]
  },
  {
   "cell_type": "code",
   "execution_count": null,
   "metadata": {},
   "outputs": [],
   "source": [
    "!mv stackoverflow_aa stackoverflow_train.vw"
   ]
  },
  {
   "cell_type": "code",
   "execution_count": null,
   "metadata": {},
   "outputs": [],
   "source": [
    "!mv stackoverflow_ab stackoverflow_valid.vw"
   ]
  },
  {
   "cell_type": "code",
   "execution_count": null,
   "metadata": {},
   "outputs": [],
   "source": [
    "!mv stackoverflow_ac stackoverflow_test.vw"
   ]
  },
  {
   "cell_type": "code",
   "execution_count": null,
   "metadata": {},
   "outputs": [],
   "source": [
    "!wc -l stackoverflow_*.vw"
   ]
  },
  {
   "cell_type": "code",
   "execution_count": null,
   "metadata": {},
   "outputs": [],
   "source": [
    "!cat stackoverflow_test.vw  | cut -f 1 -d ' ' > test_labels.txt"
   ]
  },
  {
   "cell_type": "code",
   "execution_count": null,
   "metadata": {},
   "outputs": [],
   "source": [
    "%%time\n",
    "!cat stackoverflow_valid.vw  | cut -f 1 -d ' ' > valid_labels.txt"
   ]
  },
  {
   "cell_type": "markdown",
   "metadata": {},
   "source": [
    "#### loading label for test and valid"
   ]
  },
  {
   "cell_type": "code",
   "execution_count": null,
   "metadata": {},
   "outputs": [],
   "source": [
    "%%time\n",
    "y_valid = np.loadtxt('valid_labels.txt')\n",
    "y_test = np.loadtxt('test_labels.txt')"
   ]
  },
  {
   "cell_type": "markdown",
   "metadata": {},
   "source": [
    "### Training and validation"
   ]
  },
  {
   "cell_type": "code",
   "execution_count": null,
   "metadata": {},
   "outputs": [],
   "source": [
    "def training_vw(file_output='stackoverflow.vw', \n",
    "                input_dataset='stackoverflow_train.vw', \n",
    "                ngram=None, passes=None, loss_function='hinge', random_seed=123, bit_precision=28):\n",
    "    #if ngram or passes will be used add required command\n",
    "    if ngram is None or ngram == 1:\n",
    "        ngram = ''\n",
    "    else:\n",
    "        ngram = f'--ngram={ngram}'\n",
    "        \n",
    "    if passes is None or passes == 1:\n",
    "        passes = ''\n",
    "    else:\n",
    "        passes = f'--passes={passes} --cache'\n",
    "    \n",
    "    vw_string = (f'vw --random_seed {random_seed} --oaa 10 --threads -d {input_dataset}'\n",
    "                f' --loss_function {loss_function} -b {bit_precision} {ngram}' \n",
    "                f' -f {file_output} {passes}')\n",
    "            \n",
    "    print(vw_string)\n",
    "    res = os.system(vw_string)\n",
    "    print('Allright' if not res else 'Failure')"
   ]
  },
  {
   "cell_type": "code",
   "execution_count": null,
   "metadata": {},
   "outputs": [],
   "source": [
    "def testing_vw(model='stackoverflow.vw', test_file='stackoverflow_valid.vw', \n",
    "               predictions_file='valid_predictions.txt'):\n",
    "    vw_text = f'vw -i {model} -t -d {test_file} -p {predictions_file}'\n",
    "    print(vw_text)\n",
    "    res = os.system(vw_text)\n",
    "    print('Allright' if not res else 'Failure')"
   ]
  },
  {
   "cell_type": "markdown",
   "metadata": {},
   "source": [
    "#### checking default parameters"
   ]
  },
  {
   "cell_type": "code",
   "execution_count": null,
   "metadata": {},
   "outputs": [],
   "source": [
    "%%time\n",
    "training_vw(passes=2)"
   ]
  },
  {
   "cell_type": "code",
   "execution_count": null,
   "metadata": {},
   "outputs": [],
   "source": [
    "%%time\n",
    "testing_vw()"
   ]
  },
  {
   "cell_type": "code",
   "execution_count": null,
   "metadata": {},
   "outputs": [],
   "source": [
    "pred_labels = np.loadtxt('valid_predictions.txt')"
   ]
  },
  {
   "cell_type": "code",
   "execution_count": null,
   "metadata": {},
   "outputs": [],
   "source": [
    "accuracy_score(y_valid, pred_labels)"
   ]
  },
  {
   "cell_type": "markdown",
   "metadata": {},
   "source": [
    "#### Training model for all parameters"
   ]
  },
  {
   "cell_type": "code",
   "execution_count": null,
   "metadata": {
    "scrolled": true
   },
   "outputs": [],
   "source": [
    "for i, (ngram, passes) in tqdm(enumerate(itertools.product([1, 2, 3], \n",
    "                                                      [1, 3, 5]))):\n",
    "    training_vw(file_output=f'stackoverflow_model{i}.vw', \n",
    "                ngram=ngram, passes=passes)\n",
    "    testing_vw(model=f'stackoverflow_model{i}.vw', \n",
    "               predictions_file=f'valid_predictions_{i}.txt')\n",
    "    pred_labels = np.loadtxt(f'valid_predictions_{i}.txt')\n",
    "    print(ngram, passes, f'accuracy is {accuracy_score(y_valid, pred_labels)}')"
   ]
  }
 ],
 "metadata": {
  "kernelspec": {
   "display_name": "Python 3",
   "language": "python",
   "name": "python3"
  },
  "language_info": {
   "codemirror_mode": {
    "name": "ipython",
    "version": 3
   },
   "file_extension": ".py",
   "mimetype": "text/x-python",
   "name": "python",
   "nbconvert_exporter": "python",
   "pygments_lexer": "ipython3",
   "version": "3.6.4"
  }
 },
 "nbformat": 4,
 "nbformat_minor": 2
}
